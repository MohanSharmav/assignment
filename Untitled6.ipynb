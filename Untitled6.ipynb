{
  "nbformat": 4,
  "nbformat_minor": 0,
  "metadata": {
    "colab": {
      "name": "Untitled6.ipynb",
      "provenance": [],
      "collapsed_sections": [],
      "authorship_tag": "ABX9TyO6rQjeKI5j4dJmojRn+tv6",
      "include_colab_link": true
    },
    "kernelspec": {
      "name": "python3",
      "display_name": "Python 3"
    },
    "accelerator": "GPU"
  },
  "cells": [
    {
      "cell_type": "markdown",
      "metadata": {
        "id": "view-in-github",
        "colab_type": "text"
      },
      "source": [
        "<a href=\"https://colab.research.google.com/github/MohanSharmav/assignment/blob/master/Untitled6.ipynb\" target=\"_parent\"><img src=\"https://colab.research.google.com/assets/colab-badge.svg\" alt=\"Open In Colab\"/></a>"
      ]
    },
    {
      "cell_type": "code",
      "metadata": {
        "id": "4aWny6-mPOlF",
        "colab_type": "code",
        "colab": {}
      },
      "source": [
        "df=pd.read_csv(\"tran.csv\")"
      ],
      "execution_count": 0,
      "outputs": []
    },
    {
      "cell_type": "code",
      "metadata": {
        "id": "FhdgDijuP70S",
        "colab_type": "code",
        "colab": {}
      },
      "source": [
        "import pandas as pd"
      ],
      "execution_count": 0,
      "outputs": []
    },
    {
      "cell_type": "code",
      "metadata": {
        "id": "GvatnNw6Qkzl",
        "colab_type": "code",
        "colab": {}
      },
      "source": [
        "import sklearn.feature_selection as fs\n"
      ],
      "execution_count": 0,
      "outputs": []
    },
    {
      "cell_type": "code",
      "metadata": {
        "id": "oYuaPIelR-Na",
        "colab_type": "code",
        "colab": {}
      },
      "source": [
        "x=df.iloc[:,:-1]\n",
        "y=df.iloc[:,20]"
      ],
      "execution_count": 0,
      "outputs": []
    },
    {
      "cell_type": "code",
      "metadata": {
        "id": "U-ivX_8zQ9aR",
        "colab_type": "code",
        "colab": {}
      },
      "source": [
        "kb= fs.SelectKBest(k=10)"
      ],
      "execution_count": 0,
      "outputs": []
    },
    {
      "cell_type": "code",
      "metadata": {
        "id": "FR5-3oE3dZII",
        "colab_type": "code",
        "colab": {}
      },
      "source": [
        ""
      ],
      "execution_count": 0,
      "outputs": []
    },
    {
      "cell_type": "code",
      "metadata": {
        "id": "5olwoRMARubv",
        "colab_type": "code",
        "colab": {
          "base_uri": "https://localhost:8080/",
          "height": 34
        },
        "outputId": "fd362ecb-c5a2-4e6d-cf10-ab1707e240f6"
      },
      "source": [
        "kb.fit(x,y)"
      ],
      "execution_count": 21,
      "outputs": [
        {
          "output_type": "execute_result",
          "data": {
            "text/plain": [
              "SelectKBest(k=10, score_func=<function f_classif at 0x7f22c6fe3d08>)"
            ]
          },
          "metadata": {
            "tags": []
          },
          "execution_count": 21
        }
      ]
    },
    {
      "cell_type": "code",
      "metadata": {
        "id": "mtKT3_3baH3K",
        "colab_type": "code",
        "colab": {
          "base_uri": "https://localhost:8080/",
          "height": 202
        },
        "outputId": "c3ebc35d-03da-40b3-b765-ec28ab29b4f3"
      },
      "source": [
        "names=x.columns.values[kb.get_support()]\n",
        "scores=kb.scores_[kb.get_support()]\n",
        "names_scores = list(zip(names,scores))\n",
        "ns_df=pd.DataFrame(data= names_scores,columns=['feature_names','f_scores'])\n",
        "ns_df_scorted =ns_df.sort_values(['f_scores','feature_names'],ascending=[False,True])\n",
        "print(ns_df_scorted)"
      ],
      "execution_count": 31,
      "outputs": [
        {
          "output_type": "stream",
          "text": [
            "   feature_names     f_scores\n",
            "6            ram  3520.110824\n",
            "0  battery_power    31.598158\n",
            "5       px_width    22.620882\n",
            "4      px_height    19.484842\n",
            "2      mobile_wt     3.594318\n",
            "1     int_memory     2.922996\n",
            "3        n_cores     2.625415\n",
            "7           sc_h     2.225984\n",
            "8           sc_w     1.671000\n",
            "9      talk_time     1.628811\n"
          ],
          "name": "stdout"
        }
      ]
    }
  ]
}